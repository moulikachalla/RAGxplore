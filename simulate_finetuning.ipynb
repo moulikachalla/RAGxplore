{
 "cells": [
  {
   "cell_type": "code",
   "execution_count": 2,
   "id": "fe51fb79",
   "metadata": {},
   "outputs": [
    {
     "name": "stdout",
     "output_type": "stream",
     "text": [
      "Note: you may need to restart the kernel to use updated packages.\n"
     ]
    }
   ],
   "source": [
    "# ✅ Cell 1: Install dependencies (run once)\n",
    "%pip install transformers datasets peft accelerate bitsandbytes -q\n"
   ]
  },
  {
   "cell_type": "code",
   "execution_count": 4,
   "id": "98772225",
   "metadata": {},
   "outputs": [],
   "source": [
    "# ✅ Cell 2: Imports\n",
    "from datasets import load_dataset\n",
    "from transformers import AutoTokenizer, AutoModelForSeq2SeqLM, TrainingArguments, Trainer, DataCollatorForSeq2Seq\n",
    "from peft import get_peft_model, LoraConfig, TaskType\n",
    "import torch\n"
   ]
  },
  {
   "cell_type": "code",
   "execution_count": 6,
   "id": "4b4f8984",
   "metadata": {},
   "outputs": [
    {
     "name": "stderr",
     "output_type": "stream",
     "text": [
      "Generating train split: 10 examples [00:00, 1104.11 examples/s]\n"
     ]
    },
    {
     "data": {
      "text/plain": [
       "{'prompt': 'Who are the high-risk customers mentioned in the latest risk assessments?',\n",
       " 'completion': 'The high-risk customers mentioned in the latest risk assessments are:\\n\\n1. BioMed Research (Customer ID: 3): This account generates $12M in revenue, but is currently under regulatory scrutiny in the biotech sector.\\n2. NextGen Pharmaceuticals (Customer ID: 6): This account brings in $45M in revenue, but has pending FDA approvals.\\n3. Digital Health Corp (Customer ID: 9): This account contributes $18M in revenue, but there are data privacy concerns associated with it.\\n\\nThe total exposure for these high-risk accounts is $75M in annual revenue. The recommended actions include increasing monitoring frequency for these accounts, reviewing contract terms for regulatory compliance clauses, and scheduling quarterly business reviews (Source 1: risk_assessment.eml).'}"
      ]
     },
     "execution_count": 6,
     "metadata": {},
     "output_type": "execute_result"
    }
   ],
   "source": [
    "# ✅ Cell 3: Load feedback-based fine-tune data\n",
    "dataset = load_dataset(\"json\", data_files=\"finetune_data.jsonl\", split=\"train\")\n",
    "dataset[0]\n"
   ]
  },
  {
   "cell_type": "code",
   "execution_count": 7,
   "id": "56f4f2cc",
   "metadata": {},
   "outputs": [],
   "source": [
    "# ✅ Cell 4: Load model and tokenizer\n",
    "model_id = \"google/flan-t5-small\"\n",
    "\n",
    "tokenizer = AutoTokenizer.from_pretrained(model_id)\n",
    "base_model = AutoModelForSeq2SeqLM.from_pretrained(model_id)\n"
   ]
  },
  {
   "cell_type": "code",
   "execution_count": 11,
   "id": "b22a8dd0",
   "metadata": {},
   "outputs": [
    {
     "name": "stdout",
     "output_type": "stream",
     "text": [
      "trainable params: 344,064 || all params: 77,305,216 || trainable%: 0.4451\n"
     ]
    }
   ],
   "source": [
    "# ✅ Cell 5: Configure LoRA + PEFT\n",
    "peft_config = LoraConfig(\n",
    "    task_type=TaskType.SEQ_2_SEQ_LM,\n",
    "    inference_mode=False,\n",
    "    r=8,\n",
    "    lora_alpha=32,\n",
    "    lora_dropout=0.1\n",
    ")\n",
    "\n",
    "model = get_peft_model(base_model, peft_config)\n",
    "model.print_trainable_parameters()\n"
   ]
  },
  {
   "cell_type": "code",
   "execution_count": 12,
   "id": "0da5f314",
   "metadata": {},
   "outputs": [
    {
     "name": "stderr",
     "output_type": "stream",
     "text": [
      "Map: 100%|██████████| 10/10 [00:00<00:00, 381.62 examples/s]\n"
     ]
    }
   ],
   "source": [
    "# ✅ Cell 6: Preprocess data\n",
    "def preprocess(example):\n",
    "    inputs = tokenizer(example[\"prompt\"], padding=\"max_length\", truncation=True, max_length=256)\n",
    "    targets = tokenizer(example[\"completion\"], padding=\"max_length\", truncation=True, max_length=256)\n",
    "    inputs[\"labels\"] = targets[\"input_ids\"]\n",
    "    return inputs\n",
    "\n",
    "tokenized_dataset = dataset.map(preprocess, remove_columns=[\"prompt\", \"completion\"])\n"
   ]
  },
  {
   "cell_type": "code",
   "execution_count": 13,
   "id": "c3070338",
   "metadata": {},
   "outputs": [],
   "source": [
    "# ✅ Cell 7: Training arguments\n",
    "training_args = TrainingArguments(\n",
    "    output_dir=\"./models/lora_adapter\",\n",
    "    per_device_train_batch_size=2,\n",
    "    num_train_epochs=5,\n",
    "    learning_rate=1e-4,\n",
    "    logging_dir=\"./logs\",\n",
    "    save_total_limit=1,\n",
    "    save_strategy=\"epoch\"\n",
    ")\n"
   ]
  },
  {
   "cell_type": "code",
   "execution_count": null,
   "id": "e4030b16",
   "metadata": {},
   "outputs": [],
   "source": []
  },
  {
   "cell_type": "code",
   "execution_count": 14,
   "id": "4863ba07",
   "metadata": {},
   "outputs": [
    {
     "name": "stderr",
     "output_type": "stream",
     "text": [
      "No label_names provided for model class `PeftModelForSeq2SeqLM`. Since `PeftModel` hides base models input arguments, if label_names is not given, label_names can't be set automatically within `Trainer`. Note that empty label_names list will be used instead.\n",
      "/Users/moulika/allyin-compass/venv/lib/python3.13/site-packages/torch/utils/data/dataloader.py:683: UserWarning: 'pin_memory' argument is set as true but not supported on MPS now, then device pinned memory won't be used.\n",
      "  warnings.warn(warn_msg)\n",
      "Passing a tuple of `past_key_values` is deprecated and will be removed in Transformers v4.48.0. You should pass an instance of `EncoderDecoderCache` instead, e.g. `past_key_values=EncoderDecoderCache.from_legacy_cache(past_key_values)`.\n"
     ]
    },
    {
     "data": {
      "text/html": [
       "\n",
       "    <div>\n",
       "      \n",
       "      <progress value='25' max='25' style='width:300px; height:20px; vertical-align: middle;'></progress>\n",
       "      [25/25 00:05, Epoch 5/5]\n",
       "    </div>\n",
       "    <table border=\"1\" class=\"dataframe\">\n",
       "  <thead>\n",
       " <tr style=\"text-align: left;\">\n",
       "      <th>Step</th>\n",
       "      <th>Training Loss</th>\n",
       "    </tr>\n",
       "  </thead>\n",
       "  <tbody>\n",
       "  </tbody>\n",
       "</table><p>"
      ],
      "text/plain": [
       "<IPython.core.display.HTML object>"
      ]
     },
     "metadata": {},
     "output_type": "display_data"
    },
    {
     "name": "stderr",
     "output_type": "stream",
     "text": [
      "/Users/moulika/allyin-compass/venv/lib/python3.13/site-packages/torch/utils/data/dataloader.py:683: UserWarning: 'pin_memory' argument is set as true but not supported on MPS now, then device pinned memory won't be used.\n",
      "  warnings.warn(warn_msg)\n",
      "/Users/moulika/allyin-compass/venv/lib/python3.13/site-packages/torch/utils/data/dataloader.py:683: UserWarning: 'pin_memory' argument is set as true but not supported on MPS now, then device pinned memory won't be used.\n",
      "  warnings.warn(warn_msg)\n",
      "/Users/moulika/allyin-compass/venv/lib/python3.13/site-packages/torch/utils/data/dataloader.py:683: UserWarning: 'pin_memory' argument is set as true but not supported on MPS now, then device pinned memory won't be used.\n",
      "  warnings.warn(warn_msg)\n",
      "/Users/moulika/allyin-compass/venv/lib/python3.13/site-packages/torch/utils/data/dataloader.py:683: UserWarning: 'pin_memory' argument is set as true but not supported on MPS now, then device pinned memory won't be used.\n",
      "  warnings.warn(warn_msg)\n"
     ]
    },
    {
     "name": "stdout",
     "output_type": "stream",
     "text": [
      "✅ Fine-tuned model saved to: models/lora_adapter/\n"
     ]
    }
   ],
   "source": [
    "# ✅ Cell 8: Train the model\n",
    "trainer = Trainer(\n",
    "    model=model,\n",
    "    args=training_args,\n",
    "    train_dataset=tokenized_dataset,\n",
    "    data_collator=DataCollatorForSeq2Seq(tokenizer, model=model)\n",
    ")\n",
    "\n",
    "trainer.train()\n",
    "model.save_pretrained(\"./models/lora_adapter\")\n",
    "\n",
    "print(\"✅ Fine-tuned model saved to: models/lora_adapter/\")\n"
   ]
  },
  {
   "cell_type": "code",
   "execution_count": null,
   "id": "21c7159c",
   "metadata": {},
   "outputs": [],
   "source": []
  },
  {
   "cell_type": "code",
   "execution_count": null,
   "id": "97ef6db3",
   "metadata": {},
   "outputs": [],
   "source": []
  }
 ],
 "metadata": {
  "kernelspec": {
   "display_name": "venv",
   "language": "python",
   "name": "python3"
  },
  "language_info": {
   "codemirror_mode": {
    "name": "ipython",
    "version": 3
   },
   "file_extension": ".py",
   "mimetype": "text/x-python",
   "name": "python",
   "nbconvert_exporter": "python",
   "pygments_lexer": "ipython3",
   "version": "3.13.5"
  }
 },
 "nbformat": 4,
 "nbformat_minor": 5
}
